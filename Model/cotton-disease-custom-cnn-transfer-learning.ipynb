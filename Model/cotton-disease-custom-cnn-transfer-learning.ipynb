{
 "cells": [
  {
   "cell_type": "markdown",
   "id": "17234b80",
   "metadata": {
    "papermill": {
     "duration": 0.022772,
     "end_time": "2021-08-02T19:27:50.649924",
     "exception": false,
     "start_time": "2021-08-02T19:27:50.627152",
     "status": "completed"
    },
    "tags": []
   },
   "source": [
    "# Cotton Disease: Custom CNN & Transfer Learning"
   ]
  },
  {
   "cell_type": "markdown",
   "id": "81ff9041",
   "metadata": {
    "papermill": {
     "duration": 0.022022,
     "end_time": "2021-08-02T19:27:50.696259",
     "exception": false,
     "start_time": "2021-08-02T19:27:50.674237",
     "status": "completed"
    },
    "tags": []
   },
   "source": [
    "<img src=\"https://img.freepik.com/free-photo/row-growing-green-cotton-field-india_54391-2406.jpg?size=626&ext=jpg&ga=GA1.2.1623233742.1618790400\" align=middle>"
   ]
  },
  {
   "cell_type": "markdown",
   "id": "2202ecc5",
   "metadata": {
    "papermill": {
     "duration": 0.01994,
     "end_time": "2021-08-02T19:27:50.736343",
     "exception": false,
     "start_time": "2021-08-02T19:27:50.716403",
     "status": "completed"
    },
    "tags": []
   },
   "source": [
    "## Problem\n",
    "\n",
    "Given the huge areas used for cotton production, **how could we best detect disease present in the plants with minimun human effort?**"
   ]
  },
  {
   "cell_type": "markdown",
   "id": "0394fd58",
   "metadata": {
    "execution": {
     "iopub.execute_input": "2021-08-02T18:21:09.071743Z",
     "iopub.status.busy": "2021-08-02T18:21:09.071414Z",
     "iopub.status.idle": "2021-08-02T18:21:09.077797Z",
     "shell.execute_reply": "2021-08-02T18:21:09.076831Z",
     "shell.execute_reply.started": "2021-08-02T18:21:09.071714Z"
    },
    "papermill": {
     "duration": 0.023207,
     "end_time": "2021-08-02T19:27:50.780390",
     "exception": false,
     "start_time": "2021-08-02T19:27:50.757183",
     "status": "completed"
    },
    "tags": []
   },
   "source": [
    "## Proposed Solution\n",
    "\n",
    "First, we would create a custom **Convolutional Neural Network (CNN)** and see how much precision could we get from it. Later, we would take advantage of the **VGG16** model through **transfer learning** to find out if the accuracy improves in a considerable way to decide wich model is the most appropiate for this task."
   ]
  },
  {
   "cell_type": "markdown",
   "id": "e410b51d",
   "metadata": {
    "papermill": {
     "duration": 0.019547,
     "end_time": "2021-08-02T19:27:50.822536",
     "exception": false,
     "start_time": "2021-08-02T19:27:50.802989",
     "status": "completed"
    },
    "tags": []
   },
   "source": [
    "## Importing Libraries and Packages\n",
    "\n",
    "### Data Processing and Visualization\n",
    "* Random\n",
    "* Numpy\n",
    "* Pandas\n",
    "* Matplotlib\n",
    "\n",
    "### Deep Learning\n",
    "* Tensorflow\n",
    "* Keras"
   ]
  },
  {
   "cell_type": "code",
   "execution_count": 1,
   "id": "408f3199",
   "metadata": {
    "execution": {
     "iopub.execute_input": "2021-08-02T19:27:50.877323Z",
     "iopub.status.busy": "2021-08-02T19:27:50.876500Z",
     "iopub.status.idle": "2021-08-02T19:27:55.707240Z",
     "shell.execute_reply": "2021-08-02T19:27:55.707696Z",
     "shell.execute_reply.started": "2021-08-02T14:55:29.245283Z"
    },
    "papermill": {
     "duration": 4.865072,
     "end_time": "2021-08-02T19:27:55.707947",
     "exception": false,
     "start_time": "2021-08-02T19:27:50.842875",
     "status": "completed"
    },
    "tags": []
   },
   "outputs": [
    {
     "name": "stderr",
     "output_type": "stream",
     "text": [
      "/opt/conda/lib/python3.7/site-packages/ipykernel_launcher.py:11: DeprecationWarning: `import kerastuner` is deprecated, please use `import keras_tuner`.\n",
      "  # This is added back by InteractiveShellApp.init_path()\n"
     ]
    }
   ],
   "source": [
    "#Libraries\n",
    "import random\n",
    "\n",
    "import numpy as np\n",
    "import pandas as pd\n",
    "import matplotlib.pyplot as plt\n",
    "\n",
    "import tensorflow as tf\n",
    "from tensorflow import keras\n",
    "from tensorflow.keras import layers\n",
    "from kerastuner.tuners import RandomSearch\n",
    "from tensorflow.keras.layers.experimental import preprocessing\n",
    "from tensorflow.keras.models import Sequential,Model\n",
    "from tensorflow.keras.layers import Conv2D\n",
    "from tensorflow.keras.layers import Flatten\n",
    "from tensorflow.keras.layers import MaxPool2D\n",
    "from tensorflow.keras.preprocessing.image import ImageDataGenerator"
   ]
  },
  {
   "cell_type": "code",
   "execution_count": 2,
   "id": "0102b182",
   "metadata": {
    "execution": {
     "iopub.execute_input": "2021-08-02T19:27:55.752472Z",
     "iopub.status.busy": "2021-08-02T19:27:55.751949Z",
     "iopub.status.idle": "2021-08-02T19:27:55.755670Z",
     "shell.execute_reply": "2021-08-02T19:27:55.755286Z",
     "shell.execute_reply.started": "2021-08-02T14:55:29.253652Z"
    },
    "papermill": {
     "duration": 0.026839,
     "end_time": "2021-08-02T19:27:55.755768",
     "exception": false,
     "start_time": "2021-08-02T19:27:55.728929",
     "status": "completed"
    },
    "tags": []
   },
   "outputs": [],
   "source": [
    "#Setting a specific random seed\n",
    "tf.random.set_seed(1)"
   ]
  },
  {
   "cell_type": "markdown",
   "id": "fa16a6cf",
   "metadata": {
    "papermill": {
     "duration": 0.024299,
     "end_time": "2021-08-02T19:27:55.801703",
     "exception": false,
     "start_time": "2021-08-02T19:27:55.777404",
     "status": "completed"
    },
    "tags": []
   },
   "source": [
    "## Data Preparation for the Custom Model"
   ]
  },
  {
   "cell_type": "code",
   "execution_count": 3,
   "id": "76e08554",
   "metadata": {
    "execution": {
     "iopub.execute_input": "2021-08-02T19:27:55.850471Z",
     "iopub.status.busy": "2021-08-02T19:27:55.849944Z",
     "iopub.status.idle": "2021-08-02T19:27:56.290321Z",
     "shell.execute_reply": "2021-08-02T19:27:56.289837Z",
     "shell.execute_reply.started": "2021-08-02T14:55:29.274779Z"
    },
    "papermill": {
     "duration": 0.467826,
     "end_time": "2021-08-02T19:27:56.290458",
     "exception": false,
     "start_time": "2021-08-02T19:27:55.822632",
     "status": "completed"
    },
    "tags": []
   },
   "outputs": [
    {
     "name": "stdout",
     "output_type": "stream",
     "text": [
      "Found 1951 images belonging to 4 classes.\n",
      "Found 253 images belonging to 4 classes.\n",
      "Found 106 images belonging to 4 classes.\n"
     ]
    }
   ],
   "source": [
    "#Data Generation\n",
    "train_datagen = ImageDataGenerator(rescale = 1.0/255,\n",
    "                                        shear_range = 0.2,\n",
    "                                        zoom_range = 0.5,\n",
    "                                        horizontal_flip = True,\n",
    "                                        rotation_range=10,\n",
    "                                        width_shift_range=0.2,\n",
    "                                        brightness_range=[0.2,1.2]\n",
    "                                        )\n",
    "valid_datagen = ImageDataGenerator(rescale = 1.0/255)\n",
    "\n",
    "test_datagen = ImageDataGenerator(rescale = 1.0/255)\n",
    "\n",
    "\n",
    "train_data = train_datagen.flow_from_directory('../input/cotton-disease-dataset/Cotton Disease/train',\n",
    "                                                    target_size = (250,250),\n",
    "                                                    batch_size = 64,\n",
    "                                                    class_mode = 'categorical')\n",
    "val_data = valid_datagen.flow_from_directory('../input/cotton-disease-dataset/Cotton Disease/val',\n",
    "                                                  target_size = (250,250),\n",
    "                                                    batch_size = 64,\n",
    "                                                    class_mode = 'categorical')\n",
    "test_data = test_datagen.flow_from_directory('../input/cotton-disease-dataset/Cotton Disease/test',\n",
    "                                                  target_size = (250,250),\n",
    "                                                    batch_size = 64,\n",
    "                                                    class_mode = 'categorical')\n"
   ]
  },
  {
   "cell_type": "markdown",
   "id": "95a63abe",
   "metadata": {
    "papermill": {
     "duration": 0.024419,
     "end_time": "2021-08-02T19:27:56.336492",
     "exception": false,
     "start_time": "2021-08-02T19:27:56.312073",
     "status": "completed"
    },
    "tags": []
   },
   "source": [
    "## Custom CNN Model Architecture"
   ]
  },
  {
   "cell_type": "code",
   "execution_count": 4,
   "id": "eb593776",
   "metadata": {
    "execution": {
     "iopub.execute_input": "2021-08-02T19:27:56.387006Z",
     "iopub.status.busy": "2021-08-02T19:27:56.386382Z",
     "iopub.status.idle": "2021-08-02T19:27:58.295683Z",
     "shell.execute_reply": "2021-08-02T19:27:58.295210Z",
     "shell.execute_reply.started": "2021-08-02T14:55:29.599972Z"
    },
    "papermill": {
     "duration": 1.936813,
     "end_time": "2021-08-02T19:27:58.295811",
     "exception": false,
     "start_time": "2021-08-02T19:27:56.358998",
     "status": "completed"
    },
    "tags": []
   },
   "outputs": [],
   "source": [
    "#Custom CNN Model\n",
    "model = keras.Sequential([\n",
    "        #inputLayer\n",
    "        layers.InputLayer(input_shape=(250,250,3)),     \n",
    "\n",
    "        #Data Augmentation\n",
    "        #preprocessing.RandomContrast(factor=0.10),\n",
    "        #preprocessing.RandomRotation(factor=0.10),\n",
    "\n",
    "        #Base        \n",
    "        #layers.BatchNormalization(renorm=True),\n",
    "        layers.Conv2D(filters=64, kernel_size=3, activation='relu', padding='same'),\n",
    "        layers.MaxPool2D(),\n",
    "\n",
    "        \n",
    "        #layers.BatchNormalization(renorm=True),\n",
    "        layers.Conv2D(filters=128, kernel_size=3, activation='relu', padding='same'),\n",
    "        layers.MaxPool2D(),\n",
    "\n",
    "        \n",
    "        #layers.BatchNormalization(renorm=True),\n",
    "        layers.Conv2D(filters=256, kernel_size=3, activation='relu', padding='same'),\n",
    "        layers.Conv2D(filters=256, kernel_size=3, activation='relu', padding='same'),\n",
    "        layers.MaxPool2D(),\n",
    "\n",
    "        # Head\n",
    "        #layers.BatchNormalization(renorm=True),\n",
    "        layers.Flatten(),\n",
    "        layers.Dense(8, activation='relu'),\n",
    "        layers.Dense(4, activation='softmax'),\n",
    "                     \n",
    "])"
   ]
  },
  {
   "cell_type": "markdown",
   "id": "5d16ddb1",
   "metadata": {
    "papermill": {
     "duration": 0.02032,
     "end_time": "2021-08-02T19:27:58.337652",
     "exception": false,
     "start_time": "2021-08-02T19:27:58.317332",
     "status": "completed"
    },
    "tags": []
   },
   "source": [
    "## Custom CNN Model Summary"
   ]
  },
  {
   "cell_type": "code",
   "execution_count": 5,
   "id": "c0a023f6",
   "metadata": {
    "execution": {
     "iopub.execute_input": "2021-08-02T19:27:58.389763Z",
     "iopub.status.busy": "2021-08-02T19:27:58.388497Z",
     "iopub.status.idle": "2021-08-02T19:27:58.397298Z",
     "shell.execute_reply": "2021-08-02T19:27:58.397966Z",
     "shell.execute_reply.started": "2021-08-02T14:55:29.670343Z"
    },
    "papermill": {
     "duration": 0.037126,
     "end_time": "2021-08-02T19:27:58.398123",
     "exception": false,
     "start_time": "2021-08-02T19:27:58.360997",
     "status": "completed"
    },
    "tags": []
   },
   "outputs": [
    {
     "name": "stdout",
     "output_type": "stream",
     "text": [
      "Model: \"sequential\"\n",
      "_________________________________________________________________\n",
      "Layer (type)                 Output Shape              Param #   \n",
      "=================================================================\n",
      "conv2d (Conv2D)              (None, 250, 250, 64)      1792      \n",
      "_________________________________________________________________\n",
      "max_pooling2d (MaxPooling2D) (None, 125, 125, 64)      0         \n",
      "_________________________________________________________________\n",
      "conv2d_1 (Conv2D)            (None, 125, 125, 128)     73856     \n",
      "_________________________________________________________________\n",
      "max_pooling2d_1 (MaxPooling2 (None, 62, 62, 128)       0         \n",
      "_________________________________________________________________\n",
      "conv2d_2 (Conv2D)            (None, 62, 62, 256)       295168    \n",
      "_________________________________________________________________\n",
      "conv2d_3 (Conv2D)            (None, 62, 62, 256)       590080    \n",
      "_________________________________________________________________\n",
      "max_pooling2d_2 (MaxPooling2 (None, 31, 31, 256)       0         \n",
      "_________________________________________________________________\n",
      "flatten (Flatten)            (None, 246016)            0         \n",
      "_________________________________________________________________\n",
      "dense (Dense)                (None, 8)                 1968136   \n",
      "_________________________________________________________________\n",
      "dense_1 (Dense)              (None, 4)                 36        \n",
      "=================================================================\n",
      "Total params: 2,929,068\n",
      "Trainable params: 2,929,068\n",
      "Non-trainable params: 0\n",
      "_________________________________________________________________\n",
      "None\n"
     ]
    }
   ],
   "source": [
    "print(model.summary())"
   ]
  },
  {
   "cell_type": "markdown",
   "id": "c10cf8db",
   "metadata": {
    "papermill": {
     "duration": 0.02055,
     "end_time": "2021-08-02T19:27:58.441182",
     "exception": false,
     "start_time": "2021-08-02T19:27:58.420632",
     "status": "completed"
    },
    "tags": []
   },
   "source": [
    "## Compilation of Custom CNN"
   ]
  },
  {
   "cell_type": "code",
   "execution_count": 6,
   "id": "338eaec8",
   "metadata": {
    "execution": {
     "iopub.execute_input": "2021-08-02T19:27:58.497721Z",
     "iopub.status.busy": "2021-08-02T19:27:58.497220Z",
     "iopub.status.idle": "2021-08-02T19:27:58.503511Z",
     "shell.execute_reply": "2021-08-02T19:27:58.503870Z",
     "shell.execute_reply.started": "2021-08-02T14:55:29.685189Z"
    },
    "papermill": {
     "duration": 0.039787,
     "end_time": "2021-08-02T19:27:58.504009",
     "exception": false,
     "start_time": "2021-08-02T19:27:58.464222",
     "status": "completed"
    },
    "tags": []
   },
   "outputs": [],
   "source": [
    "#Compilation\n",
    "model.compile(\n",
    "    optimizer=\"adam\",\n",
    "    loss=\"categorical_crossentropy\",\n",
    "    metrics=[\"accuracy\"]\n",
    ")"
   ]
  },
  {
   "cell_type": "code",
   "execution_count": 7,
   "id": "2ff052af",
   "metadata": {
    "execution": {
     "iopub.execute_input": "2021-08-02T19:27:58.550287Z",
     "iopub.status.busy": "2021-08-02T19:27:58.549656Z",
     "iopub.status.idle": "2021-08-02T19:51:00.803330Z",
     "shell.execute_reply": "2021-08-02T19:51:00.802226Z",
     "shell.execute_reply.started": "2021-08-02T14:55:29.699510Z"
    },
    "papermill": {
     "duration": 1382.278538,
     "end_time": "2021-08-02T19:51:00.803601",
     "exception": false,
     "start_time": "2021-08-02T19:27:58.525063",
     "status": "completed"
    },
    "tags": []
   },
   "outputs": [
    {
     "name": "stdout",
     "output_type": "stream",
     "text": [
      "Epoch 1/50\n",
      "31/31 - 66s - loss: 1.4545 - accuracy: 0.4059 - val_loss: 1.3394 - val_accuracy: 0.3083\n",
      "Epoch 2/50\n",
      "31/31 - 43s - loss: 1.1900 - accuracy: 0.4726 - val_loss: 1.1683 - val_accuracy: 0.4387\n",
      "Epoch 3/50\n",
      "31/31 - 44s - loss: 1.1843 - accuracy: 0.4813 - val_loss: 1.1442 - val_accuracy: 0.4427\n",
      "Epoch 4/50\n",
      "31/31 - 42s - loss: 1.0685 - accuracy: 0.5351 - val_loss: 1.1141 - val_accuracy: 0.5217\n",
      "Epoch 5/50\n",
      "31/31 - 43s - loss: 0.9673 - accuracy: 0.6002 - val_loss: 0.8969 - val_accuracy: 0.5613\n",
      "Epoch 6/50\n",
      "31/31 - 44s - loss: 0.8841 - accuracy: 0.6392 - val_loss: 0.9197 - val_accuracy: 0.6759\n",
      "Epoch 7/50\n",
      "31/31 - 44s - loss: 0.8759 - accuracy: 0.6458 - val_loss: 0.8097 - val_accuracy: 0.6640\n",
      "Epoch 8/50\n",
      "31/31 - 43s - loss: 0.8210 - accuracy: 0.6509 - val_loss: 0.7878 - val_accuracy: 0.6522\n",
      "Epoch 9/50\n",
      "31/31 - 42s - loss: 0.7709 - accuracy: 0.6745 - val_loss: 0.8409 - val_accuracy: 0.6877\n",
      "Epoch 10/50\n",
      "31/31 - 45s - loss: 0.7397 - accuracy: 0.7094 - val_loss: 0.7237 - val_accuracy: 0.7154\n",
      "Epoch 11/50\n",
      "31/31 - 43s - loss: 0.7067 - accuracy: 0.6996 - val_loss: 0.5578 - val_accuracy: 0.7905\n",
      "Epoch 12/50\n",
      "31/31 - 43s - loss: 0.6663 - accuracy: 0.7412 - val_loss: 0.4922 - val_accuracy: 0.8261\n",
      "Epoch 13/50\n",
      "31/31 - 45s - loss: 0.5835 - accuracy: 0.7688 - val_loss: 0.4775 - val_accuracy: 0.8063\n",
      "Epoch 14/50\n",
      "31/31 - 44s - loss: 0.5685 - accuracy: 0.7668 - val_loss: 0.4191 - val_accuracy: 0.8182\n",
      "Epoch 15/50\n",
      "31/31 - 44s - loss: 0.5129 - accuracy: 0.8073 - val_loss: 0.4720 - val_accuracy: 0.8538\n",
      "Epoch 16/50\n",
      "31/31 - 43s - loss: 0.5128 - accuracy: 0.7914 - val_loss: 0.3762 - val_accuracy: 0.8498\n",
      "Epoch 17/50\n",
      "31/31 - 45s - loss: 0.4729 - accuracy: 0.8206 - val_loss: 0.3029 - val_accuracy: 0.9012\n",
      "Epoch 18/50\n",
      "31/31 - 46s - loss: 0.4138 - accuracy: 0.8457 - val_loss: 0.3441 - val_accuracy: 0.8854\n",
      "Epoch 19/50\n",
      "31/31 - 43s - loss: 0.4458 - accuracy: 0.8283 - val_loss: 0.2768 - val_accuracy: 0.8933\n",
      "Epoch 20/50\n",
      "31/31 - 43s - loss: 0.3823 - accuracy: 0.8539 - val_loss: 0.2292 - val_accuracy: 0.9012\n",
      "Epoch 21/50\n",
      "31/31 - 45s - loss: 0.3752 - accuracy: 0.8616 - val_loss: 0.2281 - val_accuracy: 0.9170\n",
      "Epoch 22/50\n",
      "31/31 - 45s - loss: 0.3617 - accuracy: 0.8601 - val_loss: 0.3102 - val_accuracy: 0.8696\n",
      "Epoch 23/50\n",
      "31/31 - 44s - loss: 0.3569 - accuracy: 0.8601 - val_loss: 0.2225 - val_accuracy: 0.9170\n",
      "Epoch 24/50\n",
      "31/31 - 43s - loss: 0.3477 - accuracy: 0.8729 - val_loss: 0.2569 - val_accuracy: 0.9170\n",
      "Epoch 25/50\n",
      "31/31 - 45s - loss: 0.3601 - accuracy: 0.8672 - val_loss: 0.2681 - val_accuracy: 0.9051\n",
      "Epoch 26/50\n",
      "31/31 - 43s - loss: 0.3419 - accuracy: 0.8780 - val_loss: 0.1929 - val_accuracy: 0.9130\n",
      "Epoch 27/50\n",
      "31/31 - 43s - loss: 0.3375 - accuracy: 0.8724 - val_loss: 0.2157 - val_accuracy: 0.9012\n",
      "Epoch 28/50\n",
      "31/31 - 45s - loss: 0.3178 - accuracy: 0.8795 - val_loss: 0.2895 - val_accuracy: 0.9170\n",
      "Epoch 29/50\n",
      "31/31 - 43s - loss: 0.2830 - accuracy: 0.8929 - val_loss: 0.3328 - val_accuracy: 0.8972\n",
      "Epoch 30/50\n",
      "31/31 - 44s - loss: 0.3132 - accuracy: 0.8872 - val_loss: 0.2004 - val_accuracy: 0.9209\n",
      "Epoch 31/50\n",
      "31/31 - 43s - loss: 0.3015 - accuracy: 0.8908 - val_loss: 0.2343 - val_accuracy: 0.9209\n",
      "Epoch 00031: early stopping\n"
     ]
    }
   ],
   "source": [
    "## Callbacks\n",
    "early_stopping=keras.callbacks.EarlyStopping(\n",
    "    monitor=\"val_loss\",\n",
    "    patience=5,\n",
    "    verbose=2\n",
    ")\n",
    "\n",
    "#Training\n",
    "history=model.fit(\n",
    "    train_data,\n",
    "    validation_data=val_data,\n",
    "    callbacks=[early_stopping],\n",
    "    epochs=50,\n",
    "    verbose=2\n",
    ")"
   ]
  },
  {
   "cell_type": "markdown",
   "id": "b6fa1607",
   "metadata": {
    "papermill": {
     "duration": 0.071358,
     "end_time": "2021-08-02T19:51:00.943248",
     "exception": false,
     "start_time": "2021-08-02T19:51:00.871890",
     "status": "completed"
    },
    "tags": []
   },
   "source": [
    "## Plotting the Loss and Accuracy for the Training and Validation Data"
   ]
  },
  {
   "cell_type": "code",
   "execution_count": 8,
   "id": "0b7f489e",
   "metadata": {
    "execution": {
     "iopub.execute_input": "2021-08-02T19:51:01.079890Z",
     "iopub.status.busy": "2021-08-02T19:51:01.079100Z",
     "iopub.status.idle": "2021-08-02T19:51:01.436718Z",
     "shell.execute_reply": "2021-08-02T19:51:01.436225Z",
     "shell.execute_reply.started": "2021-08-02T15:21:16.735368Z"
    },
    "papermill": {
     "duration": 0.422671,
     "end_time": "2021-08-02T19:51:01.436861",
     "exception": false,
     "start_time": "2021-08-02T19:51:01.014190",
     "status": "completed"
    },
    "tags": []
   },
   "outputs": [
    {
     "data": {
      "text/plain": [
       "<matplotlib.legend.Legend at 0x7f81305e04d0>"
      ]
     },
     "execution_count": 8,
     "metadata": {},
     "output_type": "execute_result"
    },
    {
     "data": {
      "image/png": "[encoded data removed]",
      "text/plain": [
       "<Figure size 1440x360 with 2 Axes>"
      ]
     },
     "metadata": {
      "needs_background": "light"
     },
     "output_type": "display_data"
    }
   ],
   "source": [
    "#Plotting Loss and Accuracy\n",
    "history_df=pd.DataFrame(history.history)\n",
    "plt.figure(figsize=(20,5))\n",
    "plt.subplot(1,2,1)\n",
    "plt.plot(history.history['loss'],label='loss')\n",
    "plt.plot(history.history['val_loss'],label='val_loss')\n",
    "plt.legend(fontsize=12)\n",
    "\n",
    "plt.subplot(1,2,2)\n",
    "plt.plot(history.history['accuracy'],label='train_accuracy')\n",
    "plt.plot(history.history['val_accuracy'],label='val_accuracy')\n",
    "plt.legend(fontsize=12)"
   ]
  },
  {
   "cell_type": "markdown",
   "id": "dae9630b",
   "metadata": {
    "papermill": {
     "duration": 0.038604,
     "end_time": "2021-08-02T19:51:01.516570",
     "exception": false,
     "start_time": "2021-08-02T19:51:01.477966",
     "status": "completed"
    },
    "tags": []
   },
   "source": [
    "## Evaluation of Custom CNN Model\n",
    "\n",
    "### Precision: **0.9245**"
   ]
  },
  {
   "cell_type": "code",
   "execution_count": 9,
   "id": "1727dab5",
   "metadata": {
    "execution": {
     "iopub.execute_input": "2021-08-02T19:51:01.604054Z",
     "iopub.status.busy": "2021-08-02T19:51:01.603448Z",
     "iopub.status.idle": "2021-08-02T19:51:11.630581Z",
     "shell.execute_reply": "2021-08-02T19:51:11.629853Z",
     "shell.execute_reply.started": "2021-08-02T15:21:17.151416Z"
    },
    "papermill": {
     "duration": 10.069662,
     "end_time": "2021-08-02T19:51:11.630752",
     "exception": false,
     "start_time": "2021-08-02T19:51:01.561090",
     "status": "completed"
    },
    "tags": []
   },
   "outputs": [
    {
     "name": "stdout",
     "output_type": "stream",
     "text": [
      "2/2 - 7s - loss: 0.3349 - accuracy: 0.8962\n"
     ]
    },
    {
     "data": {
      "text/plain": [
       "[0.3349030315876007, 0.8962264060974121]"
      ]
     },
     "execution_count": 9,
     "metadata": {},
     "output_type": "execute_result"
    }
   ],
   "source": [
    "#Evaluation\n",
    "model.evaluate(test_data,verbose=2)"
   ]
  },
  {
   "cell_type": "markdown",
   "id": "98aa6dea",
   "metadata": {
    "papermill": {
     "duration": 0.077479,
     "end_time": "2021-08-02T19:51:11.792270",
     "exception": false,
     "start_time": "2021-08-02T19:51:11.714791",
     "status": "completed"
    },
    "tags": []
   },
   "source": [
    "## Transfer Learning\n",
    "\n",
    "Setting up the image size for our samples and printing a summary of VGG16 sans its top layer."
   ]
  },
  {
   "cell_type": "code",
   "execution_count": 10,
   "id": "e6fe2796",
   "metadata": {
    "execution": {
     "iopub.execute_input": "2021-08-02T19:51:11.946427Z",
     "iopub.status.busy": "2021-08-02T19:51:11.945689Z",
     "iopub.status.idle": "2021-08-02T19:51:12.989469Z",
     "shell.execute_reply": "2021-08-02T19:51:12.988841Z",
     "shell.execute_reply.started": "2021-08-02T17:00:26.406152Z"
    },
    "papermill": {
     "duration": 1.126198,
     "end_time": "2021-08-02T19:51:12.989635",
     "exception": false,
     "start_time": "2021-08-02T19:51:11.863437",
     "status": "completed"
    },
    "tags": []
   },
   "outputs": [
    {
     "name": "stdout",
     "output_type": "stream",
     "text": [
      "Downloading data from https://storage.googleapis.com/tensorflow/keras-applications/vgg16/vgg16_weights_tf_dim_ordering_tf_kernels_notop.h5\n",
      "58892288/58889256 [==============================] - 1s 0us/step\n",
      "<class 'tensorflow.python.keras.engine.functional.Functional'>\n",
      "Model: \"vgg16\"\n",
      "_________________________________________________________________\n",
      "Layer (type)                 Output Shape              Param #   \n",
      "=================================================================\n",
      "input_2 (InputLayer)         [(None, 250, 250, 3)]     0         \n",
      "_________________________________________________________________\n",
      "block1_conv1 (Conv2D)        (None, 250, 250, 64)      1792      \n",
      "_________________________________________________________________\n",
      "block1_conv2 (Conv2D)        (None, 250, 250, 64)      36928     \n",
      "_________________________________________________________________\n",
      "block1_pool (MaxPooling2D)   (None, 125, 125, 64)      0         \n",
      "_________________________________________________________________\n",
      "block2_conv1 (Conv2D)        (None, 125, 125, 128)     73856     \n",
      "_________________________________________________________________\n",
      "block2_conv2 (Conv2D)        (None, 125, 125, 128)     147584    \n",
      "_________________________________________________________________\n",
      "block2_pool (MaxPooling2D)   (None, 62, 62, 128)       0         \n",
      "_________________________________________________________________\n",
      "block3_conv1 (Conv2D)        (None, 62, 62, 256)       295168    \n",
      "_________________________________________________________________\n",
      "block3_conv2 (Conv2D)        (None, 62, 62, 256)       590080    \n",
      "_________________________________________________________________\n",
      "block3_conv3 (Conv2D)        (None, 62, 62, 256)       590080    \n",
      "_________________________________________________________________\n",
      "block3_pool (MaxPooling2D)   (None, 31, 31, 256)       0         \n",
      "_________________________________________________________________\n",
      "block4_conv1 (Conv2D)        (None, 31, 31, 512)       1180160   \n",
      "_________________________________________________________________\n",
      "block4_conv2 (Conv2D)        (None, 31, 31, 512)       2359808   \n",
      "_________________________________________________________________\n",
      "block4_conv3 (Conv2D)        (None, 31, 31, 512)       2359808   \n",
      "_________________________________________________________________\n",
      "block4_pool (MaxPooling2D)   (None, 15, 15, 512)       0         \n",
      "_________________________________________________________________\n",
      "block5_conv1 (Conv2D)        (None, 15, 15, 512)       2359808   \n",
      "_________________________________________________________________\n",
      "block5_conv2 (Conv2D)        (None, 15, 15, 512)       2359808   \n",
      "_________________________________________________________________\n",
      "block5_conv3 (Conv2D)        (None, 15, 15, 512)       2359808   \n",
      "_________________________________________________________________\n",
      "block5_pool (MaxPooling2D)   (None, 7, 7, 512)         0         \n",
      "=================================================================\n",
      "Total params: 14,714,688\n",
      "Trainable params: 14,714,688\n",
      "Non-trainable params: 0\n",
      "_________________________________________________________________\n"
     ]
    }
   ],
   "source": [
    "#Transfer Learning\n",
    "IMAGE_SIZE = [250, 250]\n",
    "vgg16 = tf.keras.applications.vgg16.VGG16(input_shape = IMAGE_SIZE + [3],include_top = False)\n",
    "print(type(vgg16))\n",
    "vgg16.summary()"
   ]
  },
  {
   "cell_type": "markdown",
   "id": "52e26633",
   "metadata": {
    "papermill": {
     "duration": 0.047896,
     "end_time": "2021-08-02T19:51:13.081104",
     "exception": false,
     "start_time": "2021-08-02T19:51:13.033208",
     "status": "completed"
    },
    "tags": []
   },
   "source": [
    "We won't be training the feature extraction layers of VGG16 again. So, let's set them up as follows:"
   ]
  },
  {
   "cell_type": "code",
   "execution_count": 11,
   "id": "a74928ec",
   "metadata": {
    "execution": {
     "iopub.execute_input": "2021-08-02T19:51:13.177813Z",
     "iopub.status.busy": "2021-08-02T19:51:13.176908Z",
     "iopub.status.idle": "2021-08-02T19:51:13.185749Z",
     "shell.execute_reply": "2021-08-02T19:51:13.186290Z",
     "shell.execute_reply.started": "2021-08-02T17:00:30.125092Z"
    },
    "papermill": {
     "duration": 0.062193,
     "end_time": "2021-08-02T19:51:13.186436",
     "exception": false,
     "start_time": "2021-08-02T19:51:13.124243",
     "status": "completed"
    },
    "tags": []
   },
   "outputs": [
    {
     "name": "stdout",
     "output_type": "stream",
     "text": [
      "Model: \"vgg16\"\n",
      "_________________________________________________________________\n",
      "Layer (type)                 Output Shape              Param #   \n",
      "=================================================================\n",
      "input_2 (InputLayer)         [(None, 250, 250, 3)]     0         \n",
      "_________________________________________________________________\n",
      "block1_conv1 (Conv2D)        (None, 250, 250, 64)      1792      \n",
      "_________________________________________________________________\n",
      "block1_conv2 (Conv2D)        (None, 250, 250, 64)      36928     \n",
      "_________________________________________________________________\n",
      "block1_pool (MaxPooling2D)   (None, 125, 125, 64)      0         \n",
      "_________________________________________________________________\n",
      "block2_conv1 (Conv2D)        (None, 125, 125, 128)     73856     \n",
      "_________________________________________________________________\n",
      "block2_conv2 (Conv2D)        (None, 125, 125, 128)     147584    \n",
      "_________________________________________________________________\n",
      "block2_pool (MaxPooling2D)   (None, 62, 62, 128)       0         \n",
      "_________________________________________________________________\n",
      "block3_conv1 (Conv2D)        (None, 62, 62, 256)       295168    \n",
      "_________________________________________________________________\n",
      "block3_conv2 (Conv2D)        (None, 62, 62, 256)       590080    \n",
      "_________________________________________________________________\n",
      "block3_conv3 (Conv2D)        (None, 62, 62, 256)       590080    \n",
      "_________________________________________________________________\n",
      "block3_pool (MaxPooling2D)   (None, 31, 31, 256)       0         \n",
      "_________________________________________________________________\n",
      "block4_conv1 (Conv2D)        (None, 31, 31, 512)       1180160   \n",
      "_________________________________________________________________\n",
      "block4_conv2 (Conv2D)        (None, 31, 31, 512)       2359808   \n",
      "_________________________________________________________________\n",
      "block4_conv3 (Conv2D)        (None, 31, 31, 512)       2359808   \n",
      "_________________________________________________________________\n",
      "block4_pool (MaxPooling2D)   (None, 15, 15, 512)       0         \n",
      "_________________________________________________________________\n",
      "block5_conv1 (Conv2D)        (None, 15, 15, 512)       2359808   \n",
      "_________________________________________________________________\n",
      "block5_conv2 (Conv2D)        (None, 15, 15, 512)       2359808   \n",
      "_________________________________________________________________\n",
      "block5_conv3 (Conv2D)        (None, 15, 15, 512)       2359808   \n",
      "_________________________________________________________________\n",
      "block5_pool (MaxPooling2D)   (None, 7, 7, 512)         0         \n",
      "=================================================================\n",
      "Total params: 14,714,688\n",
      "Trainable params: 0\n",
      "Non-trainable params: 14,714,688\n",
      "_________________________________________________________________\n"
     ]
    }
   ],
   "source": [
    "for layer in vgg16.layers:\n",
    "    layer.trainable = False\n",
    "vgg16.summary()"
   ]
  },
  {
   "cell_type": "code",
   "execution_count": 12,
   "id": "ee302230",
   "metadata": {
    "execution": {
     "iopub.execute_input": "2021-08-02T19:51:13.278874Z",
     "iopub.status.busy": "2021-08-02T19:51:13.278299Z",
     "iopub.status.idle": "2021-08-02T19:51:13.283161Z",
     "shell.execute_reply": "2021-08-02T19:51:13.282663Z",
     "shell.execute_reply.started": "2021-08-02T17:00:34.525003Z"
    },
    "papermill": {
     "duration": 0.052104,
     "end_time": "2021-08-02T19:51:13.283283",
     "exception": false,
     "start_time": "2021-08-02T19:51:13.231179",
     "status": "completed"
    },
    "tags": []
   },
   "outputs": [],
   "source": [
    "from glob import glob\n",
    "folders=folders = glob('/kaggle/input/cotton-disease-dataset/Cotton Disease/train/*')"
   ]
  },
  {
   "cell_type": "markdown",
   "id": "0e7130b2",
   "metadata": {
    "papermill": {
     "duration": 0.044359,
     "end_time": "2021-08-02T19:51:13.372330",
     "exception": false,
     "start_time": "2021-08-02T19:51:13.327971",
     "status": "completed"
    },
    "tags": []
   },
   "source": [
    "## Setting our Transfer Learning Model"
   ]
  },
  {
   "cell_type": "code",
   "execution_count": 13,
   "id": "440c14b5",
   "metadata": {
    "execution": {
     "iopub.execute_input": "2021-08-02T19:51:13.469182Z",
     "iopub.status.busy": "2021-08-02T19:51:13.468385Z",
     "iopub.status.idle": "2021-08-02T19:51:13.496171Z",
     "shell.execute_reply": "2021-08-02T19:51:13.496975Z",
     "shell.execute_reply.started": "2021-08-02T17:00:37.362997Z"
    },
    "papermill": {
     "duration": 0.077092,
     "end_time": "2021-08-02T19:51:13.497155",
     "exception": false,
     "start_time": "2021-08-02T19:51:13.420063",
     "status": "completed"
    },
    "tags": []
   },
   "outputs": [
    {
     "name": "stdout",
     "output_type": "stream",
     "text": [
      "Model: \"model\"\n",
      "_________________________________________________________________\n",
      "Layer (type)                 Output Shape              Param #   \n",
      "=================================================================\n",
      "input_2 (InputLayer)         [(None, 250, 250, 3)]     0         \n",
      "_________________________________________________________________\n",
      "block1_conv1 (Conv2D)        (None, 250, 250, 64)      1792      \n",
      "_________________________________________________________________\n",
      "block1_conv2 (Conv2D)        (None, 250, 250, 64)      36928     \n",
      "_________________________________________________________________\n",
      "block1_pool (MaxPooling2D)   (None, 125, 125, 64)      0         \n",
      "_________________________________________________________________\n",
      "block2_conv1 (Conv2D)        (None, 125, 125, 128)     73856     \n",
      "_________________________________________________________________\n",
      "block2_conv2 (Conv2D)        (None, 125, 125, 128)     147584    \n",
      "_________________________________________________________________\n",
      "block2_pool (MaxPooling2D)   (None, 62, 62, 128)       0         \n",
      "_________________________________________________________________\n",
      "block3_conv1 (Conv2D)        (None, 62, 62, 256)       295168    \n",
      "_________________________________________________________________\n",
      "block3_conv2 (Conv2D)        (None, 62, 62, 256)       590080    \n",
      "_________________________________________________________________\n",
      "block3_conv3 (Conv2D)        (None, 62, 62, 256)       590080    \n",
      "_________________________________________________________________\n",
      "block3_pool (MaxPooling2D)   (None, 31, 31, 256)       0         \n",
      "_________________________________________________________________\n",
      "block4_conv1 (Conv2D)        (None, 31, 31, 512)       1180160   \n",
      "_________________________________________________________________\n",
      "block4_conv2 (Conv2D)        (None, 31, 31, 512)       2359808   \n",
      "_________________________________________________________________\n",
      "block4_conv3 (Conv2D)        (None, 31, 31, 512)       2359808   \n",
      "_________________________________________________________________\n",
      "block4_pool (MaxPooling2D)   (None, 15, 15, 512)       0         \n",
      "_________________________________________________________________\n",
      "block5_conv1 (Conv2D)        (None, 15, 15, 512)       2359808   \n",
      "_________________________________________________________________\n",
      "block5_conv2 (Conv2D)        (None, 15, 15, 512)       2359808   \n",
      "_________________________________________________________________\n",
      "block5_conv3 (Conv2D)        (None, 15, 15, 512)       2359808   \n",
      "_________________________________________________________________\n",
      "block5_pool (MaxPooling2D)   (None, 7, 7, 512)         0         \n",
      "_________________________________________________________________\n",
      "flatten_1 (Flatten)          (None, 25088)             0         \n",
      "_________________________________________________________________\n",
      "dense_2 (Dense)              (None, 4)                 100356    \n",
      "=================================================================\n",
      "Total params: 14,815,044\n",
      "Trainable params: 100,356\n",
      "Non-trainable params: 14,714,688\n",
      "_________________________________________________________________\n"
     ]
    }
   ],
   "source": [
    "from tensorflow.keras.models import Model\n",
    "from tensorflow.keras.layers import Dense\n",
    "x = Flatten()(vgg16.output)\n",
    "prediction = Dense(len(folders), activation='softmax')(x)\n",
    "\n",
    "modelvg=Model(inputs=vgg16.input,outputs=prediction)\n",
    "#for layer in vgg16.layers[0:-1]:\n",
    "#    modelvg.add(layer)\n",
    "modelvg.summary()"
   ]
  },
  {
   "cell_type": "markdown",
   "id": "990c4b6b",
   "metadata": {
    "papermill": {
     "duration": 0.043472,
     "end_time": "2021-08-02T19:51:13.586699",
     "exception": false,
     "start_time": "2021-08-02T19:51:13.543227",
     "status": "completed"
    },
    "tags": []
   },
   "source": [
    "## Data Preparation for the Train, Validation and Test batches"
   ]
  },
  {
   "cell_type": "code",
   "execution_count": 14,
   "id": "83e397ff",
   "metadata": {
    "execution": {
     "iopub.execute_input": "2021-08-02T19:51:13.686273Z",
     "iopub.status.busy": "2021-08-02T19:51:13.685327Z",
     "iopub.status.idle": "2021-08-02T19:51:14.009312Z",
     "shell.execute_reply": "2021-08-02T19:51:14.008787Z",
     "shell.execute_reply.started": "2021-08-02T17:00:44.575575Z"
    },
    "papermill": {
     "duration": 0.373925,
     "end_time": "2021-08-02T19:51:14.009458",
     "exception": false,
     "start_time": "2021-08-02T19:51:13.635533",
     "status": "completed"
    },
    "tags": []
   },
   "outputs": [
    {
     "name": "stdout",
     "output_type": "stream",
     "text": [
      "Found 1951 images belonging to 4 classes.\n",
      "Found 253 images belonging to 4 classes.\n",
      "Found 106 images belonging to 4 classes.\n"
     ]
    }
   ],
   "source": [
    "#Preprocessing\n",
    "#preprocess_input = tf.keras.applications.vgg16.preprocess_input\n",
    "train_datagen = ImageDataGenerator(rescale = 1.0/255,\n",
    "                                        shear_range = 0.2,\n",
    "                                        zoom_range = 0.5,\n",
    "                                        horizontal_flip = True,\n",
    "                                        rotation_range=10,\n",
    "                                        width_shift_range=0.2,\n",
    "                                        brightness_range=[0.2,1.2]\n",
    "                                        )\n",
    "valid_datagen = ImageDataGenerator(rescale = 1.0/255)\n",
    "\n",
    "test_datagen = ImageDataGenerator(rescale = 1.0/255)\n",
    "\n",
    "train_data = train_datagen.flow_from_directory('../input/cotton-disease-dataset/Cotton Disease/train',\n",
    "                                                    target_size = (250,250),\n",
    "                                                    batch_size = 64,\n",
    "                                                    class_mode = 'categorical')\n",
    "val_data = valid_datagen.flow_from_directory('../input/cotton-disease-dataset/Cotton Disease/val',\n",
    "                                                  target_size = (250,250),\n",
    "                                                    batch_size = 64,\n",
    "                                                    class_mode = 'categorical')\n",
    "test_data = test_datagen.flow_from_directory('../input/cotton-disease-dataset/Cotton Disease/test',\n",
    "                                                  target_size = (250,250),\n",
    "                                                    batch_size = 64,\n",
    "                                                    class_mode = 'categorical')"
   ]
  },
  {
   "cell_type": "markdown",
   "id": "2f0579e4",
   "metadata": {
    "papermill": {
     "duration": 0.043444,
     "end_time": "2021-08-02T19:51:14.102495",
     "exception": false,
     "start_time": "2021-08-02T19:51:14.059051",
     "status": "completed"
    },
    "tags": []
   },
   "source": [
    "## Setting the Optimizer, Loss, and Metrics for Compilation"
   ]
  },
  {
   "cell_type": "code",
   "execution_count": 15,
   "id": "a9db6f9d",
   "metadata": {
    "execution": {
     "iopub.execute_input": "2021-08-02T19:51:14.203579Z",
     "iopub.status.busy": "2021-08-02T19:51:14.202758Z",
     "iopub.status.idle": "2021-08-02T19:51:14.207382Z",
     "shell.execute_reply": "2021-08-02T19:51:14.207746Z",
     "shell.execute_reply.started": "2021-08-02T17:01:25.095374Z"
    },
    "papermill": {
     "duration": 0.059549,
     "end_time": "2021-08-02T19:51:14.207875",
     "exception": false,
     "start_time": "2021-08-02T19:51:14.148326",
     "status": "completed"
    },
    "tags": []
   },
   "outputs": [],
   "source": [
    "#Compilation\n",
    "modelvg.compile(\n",
    "    optimizer=\"adam\",\n",
    "    loss=\"categorical_crossentropy\",\n",
    "    metrics=[\"accuracy\"]\n",
    ")"
   ]
  },
  {
   "cell_type": "markdown",
   "id": "18d46b66",
   "metadata": {
    "papermill": {
     "duration": 0.045441,
     "end_time": "2021-08-02T19:51:14.299021",
     "exception": false,
     "start_time": "2021-08-02T19:51:14.253580",
     "status": "completed"
    },
    "tags": []
   },
   "source": [
    "## Training the Transfer Learning Model"
   ]
  },
  {
   "cell_type": "code",
   "execution_count": 16,
   "id": "a6667994",
   "metadata": {
    "execution": {
     "iopub.execute_input": "2021-08-02T19:51:14.396887Z",
     "iopub.status.busy": "2021-08-02T19:51:14.395601Z",
     "iopub.status.idle": "2021-08-02T20:07:01.596852Z",
     "shell.execute_reply": "2021-08-02T20:07:01.596237Z",
     "shell.execute_reply.started": "2021-08-02T17:01:29.381866Z"
    },
    "papermill": {
     "duration": 947.25431,
     "end_time": "2021-08-02T20:07:01.597050",
     "exception": false,
     "start_time": "2021-08-02T19:51:14.342740",
     "status": "completed"
    },
    "tags": []
   },
   "outputs": [
    {
     "name": "stdout",
     "output_type": "stream",
     "text": [
      "Epoch 1/30\n",
      "31/31 - 49s - loss: 1.2387 - accuracy: 0.5566 - val_loss: 0.5938 - val_accuracy: 0.7866\n",
      "Epoch 2/30\n",
      "31/31 - 45s - loss: 0.5936 - accuracy: 0.7693 - val_loss: 0.3427 - val_accuracy: 0.8617\n",
      "Epoch 3/30\n",
      "31/31 - 46s - loss: 0.5084 - accuracy: 0.8073 - val_loss: 0.2640 - val_accuracy: 0.9012\n",
      "Epoch 4/30\n",
      "31/31 - 44s - loss: 0.4519 - accuracy: 0.8303 - val_loss: 0.2343 - val_accuracy: 0.9051\n",
      "Epoch 5/30\n",
      "31/31 - 46s - loss: 0.4202 - accuracy: 0.8447 - val_loss: 0.3101 - val_accuracy: 0.8933\n",
      "Epoch 6/30\n",
      "31/31 - 44s - loss: 0.4150 - accuracy: 0.8488 - val_loss: 0.2406 - val_accuracy: 0.9091\n",
      "Epoch 7/30\n",
      "31/31 - 45s - loss: 0.3822 - accuracy: 0.8631 - val_loss: 0.2162 - val_accuracy: 0.9209\n",
      "Epoch 8/30\n",
      "31/31 - 45s - loss: 0.3637 - accuracy: 0.8529 - val_loss: 0.3133 - val_accuracy: 0.8814\n",
      "Epoch 9/30\n",
      "31/31 - 44s - loss: 0.3822 - accuracy: 0.8514 - val_loss: 0.2630 - val_accuracy: 0.8972\n",
      "Epoch 10/30\n",
      "31/31 - 45s - loss: 0.3507 - accuracy: 0.8780 - val_loss: 0.2209 - val_accuracy: 0.9170\n",
      "Epoch 11/30\n",
      "31/31 - 45s - loss: 0.3629 - accuracy: 0.8601 - val_loss: 0.1816 - val_accuracy: 0.9328\n",
      "Epoch 12/30\n",
      "31/31 - 46s - loss: 0.3444 - accuracy: 0.8601 - val_loss: 0.1844 - val_accuracy: 0.9368\n",
      "Epoch 13/30\n",
      "31/31 - 44s - loss: 0.3259 - accuracy: 0.8703 - val_loss: 0.1860 - val_accuracy: 0.9289\n",
      "Epoch 14/30\n",
      "31/31 - 45s - loss: 0.3315 - accuracy: 0.8708 - val_loss: 0.1630 - val_accuracy: 0.9486\n",
      "Epoch 15/30\n",
      "31/31 - 45s - loss: 0.3250 - accuracy: 0.8801 - val_loss: 0.1843 - val_accuracy: 0.9328\n",
      "Epoch 16/30\n",
      "31/31 - 44s - loss: 0.3248 - accuracy: 0.8785 - val_loss: 0.1574 - val_accuracy: 0.9368\n",
      "Epoch 17/30\n",
      "31/31 - 44s - loss: 0.3043 - accuracy: 0.8826 - val_loss: 0.1878 - val_accuracy: 0.9249\n",
      "Epoch 18/30\n",
      "31/31 - 45s - loss: 0.2967 - accuracy: 0.8872 - val_loss: 0.3004 - val_accuracy: 0.8972\n",
      "Epoch 19/30\n",
      "31/31 - 45s - loss: 0.2798 - accuracy: 0.8960 - val_loss: 0.1838 - val_accuracy: 0.9368\n",
      "Epoch 20/30\n",
      "31/31 - 46s - loss: 0.2667 - accuracy: 0.9016 - val_loss: 0.1641 - val_accuracy: 0.9526\n",
      "Epoch 21/30\n",
      "31/31 - 44s - loss: 0.3121 - accuracy: 0.8806 - val_loss: 0.2048 - val_accuracy: 0.9249\n",
      "Epoch 00021: early stopping\n"
     ]
    }
   ],
   "source": [
    "## Callbacks\n",
    "early_stopping=keras.callbacks.EarlyStopping(\n",
    "    monitor=\"val_loss\",\n",
    "    patience=5,\n",
    "    verbose=2\n",
    ")\n",
    "\n",
    "#Training\n",
    "history=modelvg.fit(\n",
    "    train_data,\n",
    "    validation_data=val_data,\n",
    "    callbacks=[early_stopping],\n",
    "    shuffle=True,\n",
    "    epochs=30,\n",
    "    verbose=2\n",
    ")"
   ]
  },
  {
   "cell_type": "markdown",
   "id": "971f387b",
   "metadata": {
    "papermill": {
     "duration": 0.057217,
     "end_time": "2021-08-02T20:07:01.712815",
     "exception": false,
     "start_time": "2021-08-02T20:07:01.655598",
     "status": "completed"
    },
    "tags": []
   },
   "source": [
    "## Plotting the Loss and Accuracy for the Traning and Validation Data"
   ]
  },
  {
   "cell_type": "code",
   "execution_count": 17,
   "id": "30ab2cb5",
   "metadata": {
    "execution": {
     "iopub.execute_input": "2021-08-02T20:07:01.837295Z",
     "iopub.status.busy": "2021-08-02T20:07:01.836451Z",
     "iopub.status.idle": "2021-08-02T20:07:02.203895Z",
     "shell.execute_reply": "2021-08-02T20:07:02.203371Z",
     "shell.execute_reply.started": "2021-08-02T17:20:21.828753Z"
    },
    "papermill": {
     "duration": 0.43255,
     "end_time": "2021-08-02T20:07:02.204039",
     "exception": false,
     "start_time": "2021-08-02T20:07:01.771489",
     "status": "completed"
    },
    "tags": []
   },
   "outputs": [
    {
     "data": {
      "text/plain": [
       "<matplotlib.legend.Legend at 0x7f8120166550>"
      ]
     },
     "execution_count": 17,
     "metadata": {},
     "output_type": "execute_result"
    },
    {
     "data": {
      "image/png": "[encoded data removed]",
      "text/plain": [
       "<Figure size 1440x360 with 2 Axes>"
      ]
     },
     "metadata": {
      "needs_background": "light"
     },
     "output_type": "display_data"
    }
   ],
   "source": [
    "#Plotting Loss and Accuracy\n",
    "history_df=pd.DataFrame(history.history)\n",
    "plt.figure(figsize=(20,5))\n",
    "plt.subplot(1,2,1)\n",
    "plt.plot(history.history['loss'],label='loss')\n",
    "plt.plot(history.history['val_loss'],label='val_loss')\n",
    "plt.legend(fontsize=12)\n",
    "\n",
    "plt.subplot(1,2,2)\n",
    "plt.plot(history.history['accuracy'],label='train_accuracy')\n",
    "plt.plot(history.history['val_accuracy'],label='val_accuracy')\n",
    "plt.legend(fontsize=12)"
   ]
  },
  {
   "cell_type": "markdown",
   "id": "1cce5fe7",
   "metadata": {
    "papermill": {
     "duration": 0.062152,
     "end_time": "2021-08-02T20:07:02.324248",
     "exception": false,
     "start_time": "2021-08-02T20:07:02.262096",
     "status": "completed"
    },
    "tags": []
   },
   "source": [
    "## Evaluation\n",
    "\n",
    "### Precision: **0.9434**"
   ]
  },
  {
   "cell_type": "code",
   "execution_count": 18,
   "id": "4dbe2d82",
   "metadata": {
    "execution": {
     "iopub.execute_input": "2021-08-02T20:07:02.446612Z",
     "iopub.status.busy": "2021-08-02T20:07:02.446042Z",
     "iopub.status.idle": "2021-08-02T20:07:10.514120Z",
     "shell.execute_reply": "2021-08-02T20:07:10.513628Z",
     "shell.execute_reply.started": "2021-08-02T17:20:29.213398Z"
    },
    "papermill": {
     "duration": 8.13379,
     "end_time": "2021-08-02T20:07:10.514247",
     "exception": false,
     "start_time": "2021-08-02T20:07:02.380457",
     "status": "completed"
    },
    "tags": []
   },
   "outputs": [
    {
     "name": "stdout",
     "output_type": "stream",
     "text": [
      "2/2 - 6s - loss: 0.1291 - accuracy: 0.9434\n"
     ]
    },
    {
     "data": {
      "text/plain": [
       "[0.12911680340766907, 0.9433962106704712]"
      ]
     },
     "execution_count": 18,
     "metadata": {},
     "output_type": "execute_result"
    }
   ],
   "source": [
    "#Evaluation\n",
    "modelvg.evaluate(test_data,verbose=2)"
   ]
  }
 ],
 "metadata": {
  "kernelspec": {
   "display_name": "Python 3",
   "language": "python",
   "name": "python3"
  },
  "language_info": {
   "codemirror_mode": {
    "name": "ipython",
    "version": 3
   },
   "file_extension": ".py",
   "mimetype": "text/x-python",
   "name": "python",
   "nbconvert_exporter": "python",
   "pygments_lexer": "ipython3",
   "version": "3.7.10"
  },
  "papermill": {
   "default_parameters": {},
   "duration": 2369.190162,
   "end_time": "2021-08-02T20:07:13.222770",
   "environment_variables": {},
   "exception": null,
   "input_path": "__notebook__.ipynb",
   "output_path": "__notebook__.ipynb",
   "parameters": {},
   "start_time": "2021-08-02T19:27:44.032608",
   "version": "2.3.3"
  }
 },
 "nbformat": 4,
 "nbformat_minor": 5
}
